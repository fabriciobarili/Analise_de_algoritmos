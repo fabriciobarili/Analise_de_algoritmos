{
  "nbformat": 4,
  "nbformat_minor": 0,
  "metadata": {
    "colab": {
      "provenance": [],
      "authorship_tag": "ABX9TyO5YYCL1arLNFEjE0unPCDh",
      "include_colab_link": true
    },
    "kernelspec": {
      "name": "python3",
      "display_name": "Python 3"
    },
    "language_info": {
      "name": "python"
    }
  },
  "cells": [
    {
      "cell_type": "markdown",
      "metadata": {
        "id": "view-in-github",
        "colab_type": "text"
      },
      "source": [
        "<a href=\"https://colab.research.google.com/github/fabriciobarili/Analise_de_algoritmos/blob/main/Algoritmos_Quicksort.ipynb\" target=\"_parent\"><img src=\"https://colab.research.google.com/assets/colab-badge.svg\" alt=\"Open In Colab\"/></a>"
      ]
    },
    {
      "cell_type": "code",
      "execution_count": 71,
      "metadata": {
        "id": "ox5nsuS88ilM"
      },
      "outputs": [],
      "source": [
        "#Array\n",
        "arr = [3, 6, 2, 8, 5, 1, 7, 4, 9, 0, 10, 12, 99, 14, 21, 66, 77,15,105,36]\n",
        "arrQS = arr.copy()\n",
        "arrHS = arr.copy()\n",
        "arrBPS = arr.copy()\n",
        "#print(A)"
      ]
    },
    {
      "cell_type": "code",
      "source": [
        "#QuickSort\n",
        "def quicksort(arr, inicio=0, fim=None, contador={'trocas': 0, 'comparacoes': 0}):\n",
        "    if fim is None:\n",
        "        fim = len(arr) - 1\n",
        "\n",
        "    if inicio < fim:\n",
        "        # Particiona o array e obtém o índice do pivô\n",
        "        pivo_idx = particiona(arr, inicio, fim, contador)\n",
        "\n",
        "        # Ordena recursivamente os subarrays esquerdo e direito\n",
        "        quicksort(arr, inicio, pivo_idx - 1, contador)\n",
        "        quicksort(arr, pivo_idx + 1, fim, contador)\n",
        "\n",
        "    return contador\n",
        "\n",
        "def particiona(arr, inicio, fim, contador):\n",
        "    pivo = arr[fim]\n",
        "    i = inicio\n",
        "\n",
        "    for j in range(inicio, fim):\n",
        "        # Incrementa o contador de comparações\n",
        "        contador['comparacoes'] += 1\n",
        "\n",
        "        if arr[j] <= pivo:\n",
        "            # Incrementa o contador de trocas\n",
        "            contador['trocas'] += 1\n",
        "            arr[i], arr[j] = arr[j], arr[i]\n",
        "            i += 1\n",
        "\n",
        "    # Troca o pivô para a posição correta\n",
        "    contador['trocas'] += 1\n",
        "    arr[i], arr[fim] = arr[fim], arr[i]\n",
        "\n",
        "    return i"
      ],
      "metadata": {
        "id": "7IcVoeg88uiO"
      },
      "execution_count": 72,
      "outputs": []
    },
    {
      "cell_type": "code",
      "source": [
        "#Particionamento de Hoare\n",
        "def hoare_partition(A, left, right, pivot):\n",
        "    swaps = 0\n",
        "    comparisons = 0\n",
        "\n",
        "    while left <= right:\n",
        "        # Incrementa comparação: A[left] < pivot\n",
        "        comparisons += 1\n",
        "        while A[left] < pivot:\n",
        "            left += 1\n",
        "            comparisons += 1  # Nova comparação a cada iteração\n",
        "\n",
        "        # Incrementa comparação: A[right] > pivot\n",
        "        comparisons += 1\n",
        "        while A[right] > pivot:\n",
        "            right -= 1\n",
        "            comparisons += 1  # Nova comparação a cada iteração\n",
        "\n",
        "        if left <= right:\n",
        "            # Troca os elementos fora de lugar\n",
        "            A[left], A[right] = A[right], A[left]\n",
        "            swaps += 1\n",
        "            left += 1\n",
        "            right -= 1\n",
        "\n",
        "    return left, swaps, comparisons  # Retorna o ponto de divisão, trocas e comparações"
      ],
      "metadata": {
        "id": "VURd7ar78ynI"
      },
      "execution_count": 73,
      "outputs": []
    },
    {
      "cell_type": "code",
      "source": [
        "def block_partition(A, B, l, r, pivot, counters):\n",
        "    offsetsL = [0] * B\n",
        "    offsetsR = [0] * B\n",
        "    startL, startR, numL, numR = 0, 0, 0, 0\n",
        "\n",
        "    while r - l + 1 > 2 * B:  # Loop principal\n",
        "        # Preenchimento do buffer esquerdo\n",
        "        if numL == 0:\n",
        "            startL = 0\n",
        "            for i in range(B):\n",
        "                if l + i <= r:  # Verifica limite do array\n",
        "                    counters['comparacoes'] += 1\n",
        "                    if A[l + i] <= pivot:\n",
        "                        offsetsL[numL] = i\n",
        "                        numL += 1\n",
        "\n",
        "        # Preenchimento do buffer direito\n",
        "        if numR == 0:\n",
        "            startR = 0\n",
        "            for i in range(B):\n",
        "                if r - i >= l:  # Verifica limite do array\n",
        "                    counters['comparacoes'] += 1\n",
        "                    if A[r - i] >= pivot:\n",
        "                        offsetsR[numR] = i\n",
        "                        numR += 1\n",
        "\n",
        "        # Número de trocas a serem feitas neste passo\n",
        "        num = min(numL, numR)\n",
        "\n",
        "        # Realiza as trocas\n",
        "        for j in range(num):\n",
        "            left_idx = l + offsetsL[startL + j]\n",
        "            right_idx = r - offsetsR[startR + j]\n",
        "            A[left_idx], A[right_idx] = A[right_idx], A[left_idx]\n",
        "            counters['trocas'] += 1\n",
        "\n",
        "        # Atualiza contadores\n",
        "        numL -= num\n",
        "        numR -= num\n",
        "        startL += num\n",
        "        startR += num\n",
        "\n",
        "        # Atualiza limites se buffers esgotados\n",
        "        if numL == 0:\n",
        "            l += B\n",
        "        if numR == 0:\n",
        "            r -= B\n",
        "\n",
        "    # Processa elementos restantes (varredura tradicional)\n",
        "    i = l\n",
        "    for j in range(l, r + 1):\n",
        "        counters['comparacoes'] += 1\n",
        "        if A[j] <= pivot:\n",
        "            if i != j:\n",
        "                A[i], A[j] = A[j], A[i]\n",
        "                counters['trocas'] += 1\n",
        "            i += 1\n",
        "\n",
        "    return i - 1  # Retorna a posição final do pivô"
      ],
      "metadata": {
        "id": "E0T6yQtw88uP"
      },
      "execution_count": 74,
      "outputs": []
    },
    {
      "cell_type": "markdown",
      "source": [
        "TESTES"
      ],
      "metadata": {
        "id": "3DaZuono9GDR"
      }
    },
    {
      "cell_type": "code",
      "source": [
        "# Exemplo de uso\n",
        "if __name__ == \"__main__\":\n",
        "\n",
        "    print(\"-- INICIO QUICKSORT --\")\n",
        "    print(\"Array antes:\", arrQS)\n",
        "    contador = quicksort(arrQS)\n",
        "    print(\"Array depois:\", arrQS)\n",
        "    print(\"Trocas realizadas:\", contador['trocas'])\n",
        "    print(\"Comparações realizadas:\", contador['comparacoes'])\n",
        "    contador['trocas'] = 0\n",
        "    contador['comparacoes'] = 0\n",
        "    print(\"-- FIM QUICKSORT --\")\n",
        "\n",
        "##QUICKSORT HOARE\n",
        "    print(\"-- INICIO HOARE --\")\n",
        "    pivotH = 4\n",
        "\n",
        "    print(\"Array antes:\", arrHS)\n",
        "    partition_point, total_swaps, total_comparisons = hoare_partition(arrHS, 0, len(arrHS)-1, pivotH)\n",
        "    print(\"Array depois:\", arrHS)\n",
        "    print(\"Ponto de divisão:\", partition_point)\n",
        "    print(\"Trocas realizadas:\", total_swaps)\n",
        "    print(\"Comparações realizadas:\", total_comparisons)\n",
        "    print(\"-- FIM HOARE --\")\n",
        "\n",
        "##Particionamento de Bloco\n",
        "    print(\"-- INICIO PARTICIONAMENTO DE BLOCO --\")\n",
        "    pivotBP = 4  # Valor do pivô\n",
        "    B = 8  # Tamanho do bloco (pode ser ajustado)\n",
        "    l, r = 0, len(arrBPS) - 1\n",
        "    counters = {'trocas': 0, 'comparacoes': 0}\n",
        "\n",
        "    print(\"Array antes:\", arrBPS)\n",
        "    final_pos = block_partition(arrBPS, B, l, r, pivotBP, counters)\n",
        "\n",
        "    print(\"Array depois:\", arrBPS)\n",
        "    print(\"Trocas realizadas:\", counters['trocas'])\n",
        "    print(\"Comparações realizadas:\", counters['comparacoes'])\n",
        "\n",
        "    print(\"-- FIM PARTICIONAMENTO DE BLOCO --\")"
      ],
      "metadata": {
        "colab": {
          "base_uri": "https://localhost:8080/"
        },
        "id": "sZEpTZ7q9IOV",
        "outputId": "a971df76-de75-4190-c09e-5f858f02aaeb"
      },
      "execution_count": 75,
      "outputs": [
        {
          "output_type": "stream",
          "name": "stdout",
          "text": [
            "-- INICIO QUICKSORT --\n",
            "Array antes: [3, 6, 2, 8, 5, 1, 7, 4, 9, 0, 10, 12, 99, 14, 21, 66, 77, 15, 105, 36]\n",
            "Array depois: [0, 1, 2, 3, 4, 5, 6, 7, 8, 9, 10, 12, 14, 15, 21, 36, 66, 77, 99, 105]\n",
            "Trocas realizadas: 82\n",
            "Comparações realizadas: 101\n",
            "-- FIM QUICKSORT --\n",
            "-- INICIO HOARE --\n",
            "Array antes: [3, 6, 2, 8, 5, 1, 7, 4, 9, 0, 10, 12, 99, 14, 21, 66, 77, 15, 105, 36]\n",
            "Array depois: [3, 0, 2, 4, 1, 5, 7, 8, 9, 6, 10, 12, 99, 14, 21, 66, 77, 15, 105, 36]\n",
            "Ponto de divisão: 5\n",
            "Trocas realizadas: 3\n",
            "Comparações realizadas: 20\n",
            "-- FIM HOARE --\n",
            "-- INICIO PARTICIONAMENTO DE BLOCO --\n",
            "Array antes: [3, 6, 2, 8, 5, 1, 7, 4, 9, 0, 10, 12, 99, 14, 21, 66, 77, 15, 105, 36]\n",
            "Array depois: [36, 6, 105, 8, 5, 15, 7, 77, 0, 4, 1, 2, 3, 14, 21, 66, 9, 10, 12, 99]\n",
            "Trocas realizadas: 9\n",
            "Comparações realizadas: 28\n",
            "-- FIM PARTICIONAMENTO DE BLOCO --\n"
          ]
        }
      ]
    }
  ]
}